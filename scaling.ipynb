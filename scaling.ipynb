{
 "cells": [
  {
   "cell_type": "code",
   "execution_count": 27,
   "id": "e763140c",
   "metadata": {},
   "outputs": [],
   "source": [
    "# Imports\n",
    "\n",
    "import pandas as pd \n",
    "import env as env\n",
    "import os\n",
    "import wrangle as w\n",
    "\n",
    "# data visualization\n",
    "import numpy as np\n",
    "import matplotlib.pyplot as plt\n",
    "import seaborn as sns\n",
    "\n",
    "# modeling and scaling\n",
    "from sklearn.model_selection import train_test_split\n",
    "from sklearn.neighbors import KNeighborsClassifier\n",
    "from sklearn.preprocessing import MinMaxScaler, RobustScaler, StandardScaler"
   ]
  },
  {
   "cell_type": "code",
   "execution_count": 28,
   "id": "fb2ad298",
   "metadata": {},
   "outputs": [],
   "source": [
    "df=w.data_set()\n",
    "df=w.wrangle_data(df)\n"
   ]
  },
  {
   "cell_type": "code",
   "execution_count": 29,
   "id": "0ad78276",
   "metadata": {},
   "outputs": [],
   "source": [
    "train_validate, test = train_test_split(df, test_size=.2, random_state=123)\n",
    "train, validate = train_test_split(train_validate, test_size=.25, random_state=123)"
   ]
  },
  {
   "cell_type": "code",
   "execution_count": 30,
   "id": "dbba4cc4",
   "metadata": {},
   "outputs": [],
   "source": [
    "train= train.drop(columns=['Unnamed: 0'])\n",
    "validate= validate.drop(columns=['Unnamed: 0'])\n",
    "test= test.drop(columns=['Unnamed: 0'])"
   ]
  },
  {
   "cell_type": "code",
   "execution_count": 34,
   "id": "c88066fa",
   "metadata": {},
   "outputs": [
    {
     "data": {
      "text/plain": [
       "((1219902, 9), (406635, 9), (406635, 9))"
      ]
     },
     "execution_count": 34,
     "metadata": {},
     "output_type": "execute_result"
    }
   ],
   "source": [
    "train.shape, validate.shape, test.shape\n",
    "# target variable is taxvalue"
   ]
  },
  {
   "cell_type": "code",
   "execution_count": 42,
   "id": "796d6b80",
   "metadata": {},
   "outputs": [],
   "source": [
    "#model data\n",
    "X_train= train[['bathrooms','bedrooms','area','yearbuilt','taxamount']]\n",
    "y_train=train.taxvalue\n",
    "\n",
    "X_validate= validate[['bathrooms','bedrooms','area','yearbuilt','taxamount']]\n",
    "y_validate=validate.taxvalue\n",
    "\n",
    "X_test= test[['bathrooms','bedrooms','area','yearbuilt','taxamount']]\n",
    "y_test=test.taxvalue\n",
    "\n",
    "\n",
    "knn=KNeighborsClassifier()"
   ]
  },
  {
   "cell_type": "code",
   "execution_count": 43,
   "id": "a0de7dd5",
   "metadata": {},
   "outputs": [
    {
     "name": "stderr",
     "output_type": "stream",
     "text": [
      "/usr/local/anaconda3/lib/python3.9/site-packages/sklearn/neighbors/_classification.py:228: FutureWarning: Unlike other reduction functions (e.g. `skew`, `kurtosis`), the default behavior of `mode` typically preserves the axis it acts along. In SciPy 1.11.0, this behavior will change: the default value of `keepdims` will become False, the `axis` over which the statistic is taken will be eliminated, and the value None will no longer be accepted. Set `keepdims` to True or False to avoid this warning.\n",
      "  mode, _ = stats.mode(_y[neigh_ind, k], axis=1)\n"
     ]
    },
    {
     "data": {
      "text/plain": [
       "0.00587996606293113"
      ]
     },
     "execution_count": 43,
     "metadata": {},
     "output_type": "execute_result"
    }
   ],
   "source": [
    "knn.fit(X_train,y_train)\n",
    "knn.score(X_validate,y_validate)"
   ]
  },
  {
   "cell_type": "markdown",
   "id": "dfbeacd9",
   "metadata": {},
   "source": [
    "## Scaling data:"
   ]
  },
  {
   "cell_type": "code",
   "execution_count": 46,
   "id": "842a9dba",
   "metadata": {},
   "outputs": [],
   "source": [
    "scaler=MinMaxScaler()\n",
    "X_train_scaled=scaler.fit_transform(X_train)\n",
    "X_validate_scaled=scaler.transform(X_validate)"
   ]
  },
  {
   "cell_type": "code",
   "execution_count": 48,
   "id": "28bb6064",
   "metadata": {},
   "outputs": [
    {
     "name": "stderr",
     "output_type": "stream",
     "text": [
      "/usr/local/anaconda3/lib/python3.9/site-packages/sklearn/neighbors/_classification.py:228: FutureWarning: Unlike other reduction functions (e.g. `skew`, `kurtosis`), the default behavior of `mode` typically preserves the axis it acts along. In SciPy 1.11.0, this behavior will change: the default value of `keepdims` will become False, the `axis` over which the statistic is taken will be eliminated, and the value None will no longer be accepted. Set `keepdims` to True or False to avoid this warning.\n",
      "  mode, _ = stats.mode(_y[neigh_ind, k], axis=1)\n"
     ]
    },
    {
     "data": {
      "text/plain": [
       "0.006381644472315467"
      ]
     },
     "execution_count": 48,
     "metadata": {},
     "output_type": "execute_result"
    }
   ],
   "source": [
    "knn.fit(X_train_scaled,y_train)\n",
    "knn.score(X_validate_scaled,y_validate)"
   ]
  },
  {
   "cell_type": "code",
   "execution_count": 56,
   "id": "d5783638",
   "metadata": {},
   "outputs": [
    {
     "name": "stderr",
     "output_type": "stream",
     "text": [
      "/usr/local/anaconda3/lib/python3.9/site-packages/sklearn/neighbors/_classification.py:228: FutureWarning: Unlike other reduction functions (e.g. `skew`, `kurtosis`), the default behavior of `mode` typically preserves the axis it acts along. In SciPy 1.11.0, this behavior will change: the default value of `keepdims` will become False, the `axis` over which the statistic is taken will be eliminated, and the value None will no longer be accepted. Set `keepdims` to True or False to avoid this warning.\n",
      "  mode, _ = stats.mode(_y[neigh_ind, k], axis=1)\n"
     ]
    },
    {
     "data": {
      "text/plain": [
       "0.007146458125837668"
      ]
     },
     "execution_count": 56,
     "metadata": {},
     "output_type": "execute_result"
    }
   ],
   "source": [
    "knn3=KNeighborsClassifier(n_neighbors=3)\n",
    "knn3.fit(X_train,y_train)\n",
    "knn3.score(X_validate,y_validate)"
   ]
  },
  {
   "cell_type": "code",
   "execution_count": 57,
   "id": "e95f7ff1",
   "metadata": {},
   "outputs": [
    {
     "name": "stderr",
     "output_type": "stream",
     "text": [
      "/usr/local/anaconda3/lib/python3.9/site-packages/sklearn/base.py:450: UserWarning: X does not have valid feature names, but KNeighborsClassifier was fitted with feature names\n",
      "  warnings.warn(\n",
      "/usr/local/anaconda3/lib/python3.9/site-packages/sklearn/neighbors/_classification.py:228: FutureWarning: Unlike other reduction functions (e.g. `skew`, `kurtosis`), the default behavior of `mode` typically preserves the axis it acts along. In SciPy 1.11.0, this behavior will change: the default value of `keepdims` will become False, the `axis` over which the statistic is taken will be eliminated, and the value None will no longer be accepted. Set `keepdims` to True or False to avoid this warning.\n",
      "  mode, _ = stats.mode(_y[neigh_ind, k], axis=1)\n"
     ]
    },
    {
     "data": {
      "text/plain": [
       "0.0"
      ]
     },
     "execution_count": 57,
     "metadata": {},
     "output_type": "execute_result"
    }
   ],
   "source": [
    "knn3.score(X_validate_scaled,y_validate)"
   ]
  },
  {
   "cell_type": "code",
   "execution_count": 61,
   "id": "196db274",
   "metadata": {},
   "outputs": [],
   "source": [
    "sscaler = StandardScaler()\n",
    "X_train_scaled=sscaler.fit_transform(X_train)\n",
    "X_validate_scaled=sscaler.transform(X_validate)\n"
   ]
  },
  {
   "cell_type": "markdown",
   "id": "760b7d24",
   "metadata": {},
   "source": [
    "## Function to scale my data:"
   ]
  },
  {
   "cell_type": "code",
   "execution_count": null,
   "id": "d85a02e8",
   "metadata": {},
   "outputs": [],
   "source": [
    "def minmax_scale_data(X_train, X_validate):\n",
    "    # Initialize MinMaxScaler object\n",
    "    scaler = MinMaxScaler()\n",
    "    \n",
    "    # Fit scaler object to training data\n",
    "    scaler.fit(X_train)\n",
    "    \n",
    "    # Transform training and validation data\n",
    "    X_train_scaled = scaler.transform(X_train)\n",
    "    X_validate_scaled = scaler.transform(X_validate)\n",
    "    \n",
    "    # Return scaled data\n",
    "    return X_train_scaled, X_validate_scaled"
   ]
  }
 ],
 "metadata": {
  "kernelspec": {
   "display_name": "Python 3 (ipykernel)",
   "language": "python",
   "name": "python3"
  },
  "language_info": {
   "codemirror_mode": {
    "name": "ipython",
    "version": 3
   },
   "file_extension": ".py",
   "mimetype": "text/x-python",
   "name": "python",
   "nbconvert_exporter": "python",
   "pygments_lexer": "ipython3",
   "version": "3.9.13"
  }
 },
 "nbformat": 4,
 "nbformat_minor": 5
}
