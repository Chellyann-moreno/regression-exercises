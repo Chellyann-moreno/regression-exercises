{
 "cells": [
  {
   "cell_type": "markdown",
   "id": "7d093c6b",
   "metadata": {},
   "source": [
    "## 1. Load the tips dataset.\n",
    "\n",
    "   a. Create a column named price_per_person. This should be the total bill divided by the party size.\n",
    "   \n",
    "   b. Before using any of the methods discussed in the lesson, which features do you think would be most important            for predicting the tip amount?\n",
    "   \n",
    "          answer: party size, dinner or lunch\n",
    "   \n",
    "   c. Use select k best to select the top 2 features for predicting tip amount. What are they?\n",
    "   \n",
    "          answer: size and total bill\n",
    "   \n",
    "   d. Use recursive feature elimination to select the top 2 features for tip amount. What are they?\n",
    "         \n",
    "         answer: time and size.\n",
    "    \n",
    "   e. Why do you think select k best and recursive feature elimination might give different answers for the top features? Does this change as you change the number of features you are selecting?\n",
    "   \n",
    "    answer: Because select k best isolates each column and compares the direct correlation to the target variable, and recursive feature elimination based on importance to the model which is linear regression. the feature selection did changed because I removed size and time attributes."
   ]
  },
  {
   "cell_type": "code",
   "execution_count": 11,
   "id": "fdf35b9c",
   "metadata": {},
   "outputs": [],
   "source": [
    "import pandas as pd \n",
    "import env as env\n",
    "import wrangle as w\n",
    "import explore as e\n",
    "from pydataset import data\n",
    "# scaling and modeling\n",
    "from sklearn.preprocessing import MinMaxScaler\n",
    "from sklearn.linear_model import LinearRegression\n",
    "from sklearn.metrics import mean_squared_error, r2_score\n",
    "# feature engineering\n",
    "from sklearn.feature_selection import SelectKBest, RFE, f_regression, SequentialFeatureSelector"
   ]
  },
  {
   "cell_type": "code",
   "execution_count": 2,
   "id": "bfb2da80",
   "metadata": {},
   "outputs": [
    {
     "data": {
      "text/html": [
       "<div>\n",
       "<style scoped>\n",
       "    .dataframe tbody tr th:only-of-type {\n",
       "        vertical-align: middle;\n",
       "    }\n",
       "\n",
       "    .dataframe tbody tr th {\n",
       "        vertical-align: top;\n",
       "    }\n",
       "\n",
       "    .dataframe thead th {\n",
       "        text-align: right;\n",
       "    }\n",
       "</style>\n",
       "<table border=\"1\" class=\"dataframe\">\n",
       "  <thead>\n",
       "    <tr style=\"text-align: right;\">\n",
       "      <th></th>\n",
       "      <th>total_bill</th>\n",
       "      <th>tip</th>\n",
       "      <th>sex</th>\n",
       "      <th>smoker</th>\n",
       "      <th>day</th>\n",
       "      <th>time</th>\n",
       "      <th>size</th>\n",
       "    </tr>\n",
       "  </thead>\n",
       "  <tbody>\n",
       "    <tr>\n",
       "      <th>1</th>\n",
       "      <td>16.99</td>\n",
       "      <td>1.01</td>\n",
       "      <td>Female</td>\n",
       "      <td>No</td>\n",
       "      <td>Sun</td>\n",
       "      <td>Dinner</td>\n",
       "      <td>2</td>\n",
       "    </tr>\n",
       "    <tr>\n",
       "      <th>2</th>\n",
       "      <td>10.34</td>\n",
       "      <td>1.66</td>\n",
       "      <td>Male</td>\n",
       "      <td>No</td>\n",
       "      <td>Sun</td>\n",
       "      <td>Dinner</td>\n",
       "      <td>3</td>\n",
       "    </tr>\n",
       "    <tr>\n",
       "      <th>3</th>\n",
       "      <td>21.01</td>\n",
       "      <td>3.50</td>\n",
       "      <td>Male</td>\n",
       "      <td>No</td>\n",
       "      <td>Sun</td>\n",
       "      <td>Dinner</td>\n",
       "      <td>3</td>\n",
       "    </tr>\n",
       "    <tr>\n",
       "      <th>4</th>\n",
       "      <td>23.68</td>\n",
       "      <td>3.31</td>\n",
       "      <td>Male</td>\n",
       "      <td>No</td>\n",
       "      <td>Sun</td>\n",
       "      <td>Dinner</td>\n",
       "      <td>2</td>\n",
       "    </tr>\n",
       "    <tr>\n",
       "      <th>5</th>\n",
       "      <td>24.59</td>\n",
       "      <td>3.61</td>\n",
       "      <td>Female</td>\n",
       "      <td>No</td>\n",
       "      <td>Sun</td>\n",
       "      <td>Dinner</td>\n",
       "      <td>4</td>\n",
       "    </tr>\n",
       "  </tbody>\n",
       "</table>\n",
       "</div>"
      ],
      "text/plain": [
       "   total_bill   tip     sex smoker  day    time  size\n",
       "1       16.99  1.01  Female     No  Sun  Dinner     2\n",
       "2       10.34  1.66    Male     No  Sun  Dinner     3\n",
       "3       21.01  3.50    Male     No  Sun  Dinner     3\n",
       "4       23.68  3.31    Male     No  Sun  Dinner     2\n",
       "5       24.59  3.61  Female     No  Sun  Dinner     4"
      ]
     },
     "execution_count": 2,
     "metadata": {},
     "output_type": "execute_result"
    }
   ],
   "source": [
    "df=data('tips')\n",
    "df.head()"
   ]
  },
  {
   "cell_type": "code",
   "execution_count": 3,
   "id": "6d721439",
   "metadata": {},
   "outputs": [
    {
     "name": "stdout",
     "output_type": "stream",
     "text": [
      "<class 'pandas.core.frame.DataFrame'>\n",
      "Int64Index: 244 entries, 1 to 244\n",
      "Data columns (total 7 columns):\n",
      " #   Column      Non-Null Count  Dtype  \n",
      "---  ------      --------------  -----  \n",
      " 0   total_bill  244 non-null    float64\n",
      " 1   tip         244 non-null    float64\n",
      " 2   sex         244 non-null    object \n",
      " 3   smoker      244 non-null    object \n",
      " 4   day         244 non-null    object \n",
      " 5   time        244 non-null    object \n",
      " 6   size        244 non-null    int64  \n",
      "dtypes: float64(2), int64(1), object(4)\n",
      "memory usage: 15.2+ KB\n"
     ]
    }
   ],
   "source": [
    "df.info()"
   ]
  },
  {
   "cell_type": "code",
   "execution_count": 4,
   "id": "0a931edb",
   "metadata": {},
   "outputs": [
    {
     "data": {
      "text/html": [
       "<div>\n",
       "<style scoped>\n",
       "    .dataframe tbody tr th:only-of-type {\n",
       "        vertical-align: middle;\n",
       "    }\n",
       "\n",
       "    .dataframe tbody tr th {\n",
       "        vertical-align: top;\n",
       "    }\n",
       "\n",
       "    .dataframe thead th {\n",
       "        text-align: right;\n",
       "    }\n",
       "</style>\n",
       "<table border=\"1\" class=\"dataframe\">\n",
       "  <thead>\n",
       "    <tr style=\"text-align: right;\">\n",
       "      <th></th>\n",
       "      <th>total_bill</th>\n",
       "      <th>tip</th>\n",
       "      <th>sex</th>\n",
       "      <th>smoker</th>\n",
       "      <th>day</th>\n",
       "      <th>time</th>\n",
       "      <th>size</th>\n",
       "      <th>price_per_person</th>\n",
       "    </tr>\n",
       "  </thead>\n",
       "  <tbody>\n",
       "    <tr>\n",
       "      <th>1</th>\n",
       "      <td>16.99</td>\n",
       "      <td>1.01</td>\n",
       "      <td>Female</td>\n",
       "      <td>No</td>\n",
       "      <td>Sun</td>\n",
       "      <td>Dinner</td>\n",
       "      <td>2</td>\n",
       "      <td>8.49</td>\n",
       "    </tr>\n",
       "    <tr>\n",
       "      <th>2</th>\n",
       "      <td>10.34</td>\n",
       "      <td>1.66</td>\n",
       "      <td>Male</td>\n",
       "      <td>No</td>\n",
       "      <td>Sun</td>\n",
       "      <td>Dinner</td>\n",
       "      <td>3</td>\n",
       "      <td>3.45</td>\n",
       "    </tr>\n",
       "    <tr>\n",
       "      <th>3</th>\n",
       "      <td>21.01</td>\n",
       "      <td>3.50</td>\n",
       "      <td>Male</td>\n",
       "      <td>No</td>\n",
       "      <td>Sun</td>\n",
       "      <td>Dinner</td>\n",
       "      <td>3</td>\n",
       "      <td>7.00</td>\n",
       "    </tr>\n",
       "    <tr>\n",
       "      <th>4</th>\n",
       "      <td>23.68</td>\n",
       "      <td>3.31</td>\n",
       "      <td>Male</td>\n",
       "      <td>No</td>\n",
       "      <td>Sun</td>\n",
       "      <td>Dinner</td>\n",
       "      <td>2</td>\n",
       "      <td>11.84</td>\n",
       "    </tr>\n",
       "    <tr>\n",
       "      <th>5</th>\n",
       "      <td>24.59</td>\n",
       "      <td>3.61</td>\n",
       "      <td>Female</td>\n",
       "      <td>No</td>\n",
       "      <td>Sun</td>\n",
       "      <td>Dinner</td>\n",
       "      <td>4</td>\n",
       "      <td>6.15</td>\n",
       "    </tr>\n",
       "  </tbody>\n",
       "</table>\n",
       "</div>"
      ],
      "text/plain": [
       "   total_bill   tip     sex smoker  day    time  size  price_per_person\n",
       "1       16.99  1.01  Female     No  Sun  Dinner     2              8.49\n",
       "2       10.34  1.66    Male     No  Sun  Dinner     3              3.45\n",
       "3       21.01  3.50    Male     No  Sun  Dinner     3              7.00\n",
       "4       23.68  3.31    Male     No  Sun  Dinner     2             11.84\n",
       "5       24.59  3.61  Female     No  Sun  Dinner     4              6.15"
      ]
     },
     "execution_count": 4,
     "metadata": {},
     "output_type": "execute_result"
    }
   ],
   "source": [
    "df['price_per_person']=round((df.total_bill/df['size']),2)\n",
    "df.head()"
   ]
  },
  {
   "cell_type": "code",
   "execution_count": 5,
   "id": "f31c78c9",
   "metadata": {
    "scrolled": false
   },
   "outputs": [
    {
     "data": {
      "text/plain": [
       "Dinner    176\n",
       "Lunch      68\n",
       "Name: time, dtype: int64"
      ]
     },
     "execution_count": 5,
     "metadata": {},
     "output_type": "execute_result"
    }
   ],
   "source": [
    "df.time.value_counts()"
   ]
  },
  {
   "cell_type": "code",
   "execution_count": 6,
   "id": "9bec4ce2",
   "metadata": {},
   "outputs": [
    {
     "data": {
      "text/plain": [
       "Sat     87\n",
       "Sun     76\n",
       "Thur    62\n",
       "Fri     19\n",
       "Name: day, dtype: int64"
      ]
     },
     "execution_count": 6,
     "metadata": {},
     "output_type": "execute_result"
    }
   ],
   "source": [
    "df.day.value_counts()"
   ]
  },
  {
   "cell_type": "code",
   "execution_count": 7,
   "id": "eef8aa63",
   "metadata": {
    "scrolled": true
   },
   "outputs": [
    {
     "data": {
      "text/html": [
       "<div>\n",
       "<style scoped>\n",
       "    .dataframe tbody tr th:only-of-type {\n",
       "        vertical-align: middle;\n",
       "    }\n",
       "\n",
       "    .dataframe tbody tr th {\n",
       "        vertical-align: top;\n",
       "    }\n",
       "\n",
       "    .dataframe thead th {\n",
       "        text-align: right;\n",
       "    }\n",
       "</style>\n",
       "<table border=\"1\" class=\"dataframe\">\n",
       "  <thead>\n",
       "    <tr style=\"text-align: right;\">\n",
       "      <th></th>\n",
       "      <th>total_bill</th>\n",
       "      <th>tip</th>\n",
       "      <th>sex</th>\n",
       "      <th>smoker</th>\n",
       "      <th>day</th>\n",
       "      <th>time</th>\n",
       "      <th>size</th>\n",
       "      <th>price_per_person</th>\n",
       "      <th>sex_encoded</th>\n",
       "      <th>smoker_encoded</th>\n",
       "      <th>time_encoded</th>\n",
       "      <th>day_Sat</th>\n",
       "      <th>day_Sun</th>\n",
       "      <th>day_Thur</th>\n",
       "    </tr>\n",
       "  </thead>\n",
       "  <tbody>\n",
       "    <tr>\n",
       "      <th>1</th>\n",
       "      <td>16.99</td>\n",
       "      <td>1.01</td>\n",
       "      <td>Female</td>\n",
       "      <td>No</td>\n",
       "      <td>Sun</td>\n",
       "      <td>Dinner</td>\n",
       "      <td>2</td>\n",
       "      <td>8.49</td>\n",
       "      <td>1</td>\n",
       "      <td>0</td>\n",
       "      <td>1</td>\n",
       "      <td>0</td>\n",
       "      <td>1</td>\n",
       "      <td>0</td>\n",
       "    </tr>\n",
       "    <tr>\n",
       "      <th>2</th>\n",
       "      <td>10.34</td>\n",
       "      <td>1.66</td>\n",
       "      <td>Male</td>\n",
       "      <td>No</td>\n",
       "      <td>Sun</td>\n",
       "      <td>Dinner</td>\n",
       "      <td>3</td>\n",
       "      <td>3.45</td>\n",
       "      <td>0</td>\n",
       "      <td>0</td>\n",
       "      <td>1</td>\n",
       "      <td>0</td>\n",
       "      <td>1</td>\n",
       "      <td>0</td>\n",
       "    </tr>\n",
       "    <tr>\n",
       "      <th>3</th>\n",
       "      <td>21.01</td>\n",
       "      <td>3.50</td>\n",
       "      <td>Male</td>\n",
       "      <td>No</td>\n",
       "      <td>Sun</td>\n",
       "      <td>Dinner</td>\n",
       "      <td>3</td>\n",
       "      <td>7.00</td>\n",
       "      <td>0</td>\n",
       "      <td>0</td>\n",
       "      <td>1</td>\n",
       "      <td>0</td>\n",
       "      <td>1</td>\n",
       "      <td>0</td>\n",
       "    </tr>\n",
       "    <tr>\n",
       "      <th>4</th>\n",
       "      <td>23.68</td>\n",
       "      <td>3.31</td>\n",
       "      <td>Male</td>\n",
       "      <td>No</td>\n",
       "      <td>Sun</td>\n",
       "      <td>Dinner</td>\n",
       "      <td>2</td>\n",
       "      <td>11.84</td>\n",
       "      <td>0</td>\n",
       "      <td>0</td>\n",
       "      <td>1</td>\n",
       "      <td>0</td>\n",
       "      <td>1</td>\n",
       "      <td>0</td>\n",
       "    </tr>\n",
       "    <tr>\n",
       "      <th>5</th>\n",
       "      <td>24.59</td>\n",
       "      <td>3.61</td>\n",
       "      <td>Female</td>\n",
       "      <td>No</td>\n",
       "      <td>Sun</td>\n",
       "      <td>Dinner</td>\n",
       "      <td>4</td>\n",
       "      <td>6.15</td>\n",
       "      <td>1</td>\n",
       "      <td>0</td>\n",
       "      <td>1</td>\n",
       "      <td>0</td>\n",
       "      <td>1</td>\n",
       "      <td>0</td>\n",
       "    </tr>\n",
       "  </tbody>\n",
       "</table>\n",
       "</div>"
      ],
      "text/plain": [
       "   total_bill   tip     sex smoker  day    time  size  price_per_person  \\\n",
       "1       16.99  1.01  Female     No  Sun  Dinner     2              8.49   \n",
       "2       10.34  1.66    Male     No  Sun  Dinner     3              3.45   \n",
       "3       21.01  3.50    Male     No  Sun  Dinner     3              7.00   \n",
       "4       23.68  3.31    Male     No  Sun  Dinner     2             11.84   \n",
       "5       24.59  3.61  Female     No  Sun  Dinner     4              6.15   \n",
       "\n",
       "   sex_encoded  smoker_encoded  time_encoded  day_Sat  day_Sun  day_Thur  \n",
       "1            1               0             1        0        1         0  \n",
       "2            0               0             1        0        1         0  \n",
       "3            0               0             1        0        1         0  \n",
       "4            0               0             1        0        1         0  \n",
       "5            1               0             1        0        1         0  "
      ]
     },
     "execution_count": 7,
     "metadata": {},
     "output_type": "execute_result"
    }
   ],
   "source": [
    "df['sex_encoded'] = df.sex.map({'Female': 1, 'Male': 0})\n",
    "df['smoker_encoded'] = df.smoker.map({'Yes': 1, 'No': 0})\n",
    "df['time_encoded'] = df.time.map({'Dinner': 1, 'Lunch': 0})\n",
    "dummy_df = pd.get_dummies(df[['day']],drop_first=True)\n",
    "df = pd.concat( [df,dummy_df], axis=1 )\n",
    "df.head()"
   ]
  },
  {
   "cell_type": "code",
   "execution_count": 8,
   "id": "5077a0a6",
   "metadata": {},
   "outputs": [],
   "source": [
    "train,test,validate=w.split_data(df)"
   ]
  },
  {
   "cell_type": "code",
   "execution_count": 9,
   "id": "bbe49c7a",
   "metadata": {},
   "outputs": [
    {
     "name": "stdout",
     "output_type": "stream",
     "text": [
      "<class 'pandas.core.frame.DataFrame'>\n",
      "Int64Index: 146 entries, 225 to 167\n",
      "Data columns (total 14 columns):\n",
      " #   Column            Non-Null Count  Dtype  \n",
      "---  ------            --------------  -----  \n",
      " 0   total_bill        146 non-null    float64\n",
      " 1   tip               146 non-null    float64\n",
      " 2   sex               146 non-null    object \n",
      " 3   smoker            146 non-null    object \n",
      " 4   day               146 non-null    object \n",
      " 5   time              146 non-null    object \n",
      " 6   size              146 non-null    int64  \n",
      " 7   price_per_person  146 non-null    float64\n",
      " 8   sex_encoded       146 non-null    int64  \n",
      " 9   smoker_encoded    146 non-null    int64  \n",
      " 10  time_encoded      146 non-null    int64  \n",
      " 11  day_Sat           146 non-null    uint8  \n",
      " 12  day_Sun           146 non-null    uint8  \n",
      " 13  day_Thur          146 non-null    uint8  \n",
      "dtypes: float64(3), int64(4), object(4), uint8(3)\n",
      "memory usage: 14.1+ KB\n"
     ]
    }
   ],
   "source": [
    "train.info()"
   ]
  },
  {
   "cell_type": "code",
   "execution_count": 10,
   "id": "112c4e80",
   "metadata": {},
   "outputs": [],
   "source": [
    "x_train= train[['total_bill','sex_encoded','smoker_encoded','time_encoded','size','day_Sat','day_Sun','day_Thur']]\n",
    "y_train=train.tip\n",
    "\n",
    "x_validate= validate[['total_bill','sex_encoded','smoker_encoded','time_encoded','size','day_Sat','day_Sun','day_Thur']]\n",
    "y_validate=validate.tip\n",
    "\n",
    "x_test= test[['total_bill','sex_encoded','smoker_encoded','time_encoded','size','day_Sat','day_Sun','day_Thur']]\n",
    "y_test=test.tip\n"
   ]
  },
  {
   "cell_type": "markdown",
   "id": "d50d0843",
   "metadata": {},
   "source": [
    "###  Select kbest, 2 features:"
   ]
  },
  {
   "cell_type": "code",
   "execution_count": 14,
   "id": "782de40e",
   "metadata": {},
   "outputs": [
    {
     "data": {
      "text/plain": [
       "SelectKBest(k=2, score_func=<function f_regression at 0x7fcef08d3670>)"
      ]
     },
     "execution_count": 14,
     "metadata": {},
     "output_type": "execute_result"
    }
   ],
   "source": [
    "kbest = SelectKBest(f_regression, k=2)\n",
    "kbest.fit(x_train,y_train)\n"
   ]
  },
  {
   "cell_type": "code",
   "execution_count": 15,
   "id": "9b3831ce",
   "metadata": {},
   "outputs": [
    {
     "data": {
      "text/plain": [
       "array([1.11115028e+02, 5.96049171e-01, 8.45071808e-02, 2.18955757e+00,\n",
       "       5.76071336e+01, 2.50128222e-02, 3.28560161e+00, 9.78681779e-01])"
      ]
     },
     "execution_count": 15,
     "metadata": {},
     "output_type": "execute_result"
    }
   ],
   "source": [
    "kbest.scores_"
   ]
  },
  {
   "cell_type": "code",
   "execution_count": 16,
   "id": "f535677f",
   "metadata": {},
   "outputs": [
    {
     "data": {
      "text/plain": [
       "array([1.30561953e-19, 4.41354619e-01, 7.71698118e-01, 1.41133637e-01,\n",
       "       3.66901154e-12, 8.74556685e-01, 7.19730319e-02, 3.24183852e-01])"
      ]
     },
     "execution_count": 16,
     "metadata": {},
     "output_type": "execute_result"
    }
   ],
   "source": [
    "kbest.pvalues_"
   ]
  },
  {
   "cell_type": "code",
   "execution_count": 17,
   "id": "f718d59c",
   "metadata": {},
   "outputs": [
    {
     "data": {
      "text/plain": [
       "array([ True, False, False, False,  True, False, False, False])"
      ]
     },
     "execution_count": 17,
     "metadata": {},
     "output_type": "execute_result"
    }
   ],
   "source": [
    "kbest.get_support()"
   ]
  },
  {
   "cell_type": "code",
   "execution_count": 18,
   "id": "a5a1ccc1",
   "metadata": {
    "scrolled": true
   },
   "outputs": [
    {
     "data": {
      "text/plain": [
       "Index(['total_bill', 'size'], dtype='object')"
      ]
     },
     "execution_count": 18,
     "metadata": {},
     "output_type": "execute_result"
    }
   ],
   "source": [
    "x_train.columns[kbest.get_support()]"
   ]
  },
  {
   "cell_type": "markdown",
   "id": "1bc9002a",
   "metadata": {},
   "source": [
    "## RFE, using Linear Regression model"
   ]
  },
  {
   "cell_type": "code",
   "execution_count": 19,
   "id": "72e366bb",
   "metadata": {},
   "outputs": [
    {
     "data": {
      "text/plain": [
       "RFE(estimator=LinearRegression(), n_features_to_select=2)"
      ]
     },
     "execution_count": 19,
     "metadata": {},
     "output_type": "execute_result"
    }
   ],
   "source": [
    "model = LinearRegression()\n",
    "rfe = RFE(model, n_features_to_select=2)\n",
    "rfe.fit(x_train,y_train)"
   ]
  },
  {
   "cell_type": "code",
   "execution_count": 20,
   "id": "aea08a48",
   "metadata": {},
   "outputs": [
    {
     "data": {
      "text/plain": [
       "array([5, 2, 6, 1, 1, 3, 7, 4])"
      ]
     },
     "execution_count": 20,
     "metadata": {},
     "output_type": "execute_result"
    }
   ],
   "source": [
    "rfe.ranking_"
   ]
  },
  {
   "cell_type": "code",
   "execution_count": 21,
   "id": "0a256d05",
   "metadata": {
    "scrolled": false
   },
   "outputs": [
    {
     "data": {
      "text/html": [
       "<div>\n",
       "<style scoped>\n",
       "    .dataframe tbody tr th:only-of-type {\n",
       "        vertical-align: middle;\n",
       "    }\n",
       "\n",
       "    .dataframe tbody tr th {\n",
       "        vertical-align: top;\n",
       "    }\n",
       "\n",
       "    .dataframe thead th {\n",
       "        text-align: right;\n",
       "    }\n",
       "</style>\n",
       "<table border=\"1\" class=\"dataframe\">\n",
       "  <thead>\n",
       "    <tr style=\"text-align: right;\">\n",
       "      <th></th>\n",
       "      <th>rfe_ranking</th>\n",
       "    </tr>\n",
       "  </thead>\n",
       "  <tbody>\n",
       "    <tr>\n",
       "      <th>total_bill</th>\n",
       "      <td>5</td>\n",
       "    </tr>\n",
       "    <tr>\n",
       "      <th>sex_encoded</th>\n",
       "      <td>2</td>\n",
       "    </tr>\n",
       "    <tr>\n",
       "      <th>smoker_encoded</th>\n",
       "      <td>6</td>\n",
       "    </tr>\n",
       "    <tr>\n",
       "      <th>time_encoded</th>\n",
       "      <td>1</td>\n",
       "    </tr>\n",
       "    <tr>\n",
       "      <th>size</th>\n",
       "      <td>1</td>\n",
       "    </tr>\n",
       "    <tr>\n",
       "      <th>day_Sat</th>\n",
       "      <td>3</td>\n",
       "    </tr>\n",
       "    <tr>\n",
       "      <th>day_Sun</th>\n",
       "      <td>7</td>\n",
       "    </tr>\n",
       "    <tr>\n",
       "      <th>day_Thur</th>\n",
       "      <td>4</td>\n",
       "    </tr>\n",
       "  </tbody>\n",
       "</table>\n",
       "</div>"
      ],
      "text/plain": [
       "                rfe_ranking\n",
       "total_bill                5\n",
       "sex_encoded               2\n",
       "smoker_encoded            6\n",
       "time_encoded              1\n",
       "size                      1\n",
       "day_Sat                   3\n",
       "day_Sun                   7\n",
       "day_Thur                  4"
      ]
     },
     "execution_count": 21,
     "metadata": {},
     "output_type": "execute_result"
    }
   ],
   "source": [
    "pd.DataFrame(\n",
    "{'rfe_ranking':rfe.ranking_},\n",
    "index=x_train.columns)"
   ]
  },
  {
   "cell_type": "markdown",
   "id": "3be40da2",
   "metadata": {},
   "source": [
    "### Modifying features:\n"
   ]
  },
  {
   "cell_type": "code",
   "execution_count": 41,
   "id": "04b073d6",
   "metadata": {},
   "outputs": [],
   "source": [
    "# removed size and time attributes\n",
    "x_train= train[['total_bill','sex_encoded','smoker_encoded','day_Sat','day_Sun','day_Thur']]\n",
    "y_train=train.tip\n",
    "\n",
    "x_validate= validate[['total_bill','sex_encoded','smoker_encoded','day_Sat','day_Sun','day_Thur']]\n",
    "y_validate=validate.tip\n",
    "\n",
    "x_test= test[['total_bill','sex_encoded','smoker_encoded','day_Sat','day_Sun','day_Thur']]\n",
    "y_test=test.tip"
   ]
  },
  {
   "cell_type": "code",
   "execution_count": 42,
   "id": "988ed35b",
   "metadata": {},
   "outputs": [
    {
     "data": {
      "text/plain": [
       "['total_bill', 'day_Sun']"
      ]
     },
     "execution_count": 42,
     "metadata": {},
     "output_type": "execute_result"
    }
   ],
   "source": [
    "select_kbest(x_train,y_train,2)"
   ]
  },
  {
   "cell_type": "code",
   "execution_count": 43,
   "id": "8d8a4f2d",
   "metadata": {},
   "outputs": [
    {
     "data": {
      "text/plain": [
       "['day_Sat', 'day_Thur']"
      ]
     },
     "execution_count": 43,
     "metadata": {},
     "output_type": "execute_result"
    }
   ],
   "source": [
    "rfe(x_train,y_train,2)"
   ]
  },
  {
   "cell_type": "code",
   "execution_count": 44,
   "id": "c0553eac",
   "metadata": {},
   "outputs": [
    {
     "data": {
      "text/plain": [
       "['total_bill', 'smoker_encoded']"
      ]
     },
     "execution_count": 44,
     "metadata": {},
     "output_type": "execute_result"
    }
   ],
   "source": [
    "sequential_feature_selector(x_train,y_train,2)"
   ]
  },
  {
   "cell_type": "markdown",
   "id": "4fd66440",
   "metadata": {},
   "source": [
    "2. Write a function named select_kbest that takes in the predictors (X), the target (y), and the number of features to select (k) and returns the names of the top k selected features based on the SelectKBest class. Test your function with the tips dataset. You should see the same results as when you did the process manually."
   ]
  },
  {
   "cell_type": "code",
   "execution_count": 24,
   "id": "9e559559",
   "metadata": {},
   "outputs": [],
   "source": [
    "def select_kbest(X, y, k):\n",
    "    \"\"\"\n",
    "    Select the top k features based on the SelectKBest class.\n",
    "    Args:\n",
    "        X  The predictors.\n",
    "        y  The target.\n",
    "        k  The number of features to select.\n",
    "    Returns:\n",
    "        List of str: The names of the top k selected features.\n",
    "    \"\"\"\n",
    "    # Create the SelectKBest object and fit it to the data\n",
    "    selector = SelectKBest(score_func=f_regression, k=k)\n",
    "    selector.fit(X, y)\n",
    "    \n",
    "    # Get the indices of the top k selected features\n",
    "    feature_indices = selector.get_support(indices=True)\n",
    "    \n",
    "    # Get the names of the top k selected features\n",
    "    feature_names = list(X.columns[feature_indices])\n",
    "    \n",
    "    return feature_names"
   ]
  },
  {
   "cell_type": "code",
   "execution_count": 25,
   "id": "5f8723b8",
   "metadata": {},
   "outputs": [
    {
     "data": {
      "text/plain": [
       "['total_bill', 'size']"
      ]
     },
     "execution_count": 25,
     "metadata": {},
     "output_type": "execute_result"
    }
   ],
   "source": [
    "select_kbest(x_train,y_train,2)"
   ]
  },
  {
   "cell_type": "markdown",
   "id": "56e7c88b",
   "metadata": {},
   "source": [
    "3. Write a function named rfe that takes in the predictors, the target, and the number of features to select. It should return the top k features based on the RFE class. Test your function with the tips dataset. You should see the same results as when you did the process manually."
   ]
  },
  {
   "cell_type": "code",
   "execution_count": 26,
   "id": "b394e1c0",
   "metadata": {},
   "outputs": [],
   "source": [
    "def rfe(X, y, k):\n",
    "    \"\"\"\n",
    "    Select the top k features based on the Recursive Feature Elimination (RFE) class.\n",
    "    Returns:\n",
    "        List of str: The names of the top k selected features.\n",
    "    \"\"\"\n",
    "    # Create the RFE object and fit it to the data\n",
    "    estimator = LinearRegression()\n",
    "    selector = RFE(estimator, n_features_to_select=k)\n",
    "    selector.fit(X, y)\n",
    "    \n",
    "    # Get the indices of the top k selected features\n",
    "    feature_indices = selector.get_support(indices=True)\n",
    "    \n",
    "    # Get the names of the top k selected features\n",
    "    feature_names = list(X.columns[feature_indices])\n",
    "    \n",
    "    return feature_names\n"
   ]
  },
  {
   "cell_type": "code",
   "execution_count": 27,
   "id": "7f245f55",
   "metadata": {},
   "outputs": [
    {
     "data": {
      "text/plain": [
       "['time_encoded', 'size']"
      ]
     },
     "execution_count": 27,
     "metadata": {},
     "output_type": "execute_result"
    }
   ],
   "source": [
    "rfe(x_train,y_train,2)"
   ]
  },
  {
   "cell_type": "markdown",
   "id": "caf2750e",
   "metadata": {},
   "source": [
    "4. Load the swiss dataset and use all the other features to predict Fertility. Find the top 3 features using both select k best and recursive feature elimination (use the functions you just built to help you out)."
   ]
  },
  {
   "cell_type": "code",
   "execution_count": 29,
   "id": "d9a3cc06",
   "metadata": {},
   "outputs": [
    {
     "data": {
      "text/html": [
       "<div>\n",
       "<style scoped>\n",
       "    .dataframe tbody tr th:only-of-type {\n",
       "        vertical-align: middle;\n",
       "    }\n",
       "\n",
       "    .dataframe tbody tr th {\n",
       "        vertical-align: top;\n",
       "    }\n",
       "\n",
       "    .dataframe thead th {\n",
       "        text-align: right;\n",
       "    }\n",
       "</style>\n",
       "<table border=\"1\" class=\"dataframe\">\n",
       "  <thead>\n",
       "    <tr style=\"text-align: right;\">\n",
       "      <th></th>\n",
       "      <th>Fertility</th>\n",
       "      <th>Agriculture</th>\n",
       "      <th>Examination</th>\n",
       "      <th>Education</th>\n",
       "      <th>Catholic</th>\n",
       "      <th>Infant.Mortality</th>\n",
       "    </tr>\n",
       "  </thead>\n",
       "  <tbody>\n",
       "    <tr>\n",
       "      <th>Courtelary</th>\n",
       "      <td>80.2</td>\n",
       "      <td>17.0</td>\n",
       "      <td>15</td>\n",
       "      <td>12</td>\n",
       "      <td>9.96</td>\n",
       "      <td>22.2</td>\n",
       "    </tr>\n",
       "    <tr>\n",
       "      <th>Delemont</th>\n",
       "      <td>83.1</td>\n",
       "      <td>45.1</td>\n",
       "      <td>6</td>\n",
       "      <td>9</td>\n",
       "      <td>84.84</td>\n",
       "      <td>22.2</td>\n",
       "    </tr>\n",
       "    <tr>\n",
       "      <th>Franches-Mnt</th>\n",
       "      <td>92.5</td>\n",
       "      <td>39.7</td>\n",
       "      <td>5</td>\n",
       "      <td>5</td>\n",
       "      <td>93.40</td>\n",
       "      <td>20.2</td>\n",
       "    </tr>\n",
       "    <tr>\n",
       "      <th>Moutier</th>\n",
       "      <td>85.8</td>\n",
       "      <td>36.5</td>\n",
       "      <td>12</td>\n",
       "      <td>7</td>\n",
       "      <td>33.77</td>\n",
       "      <td>20.3</td>\n",
       "    </tr>\n",
       "    <tr>\n",
       "      <th>Neuveville</th>\n",
       "      <td>76.9</td>\n",
       "      <td>43.5</td>\n",
       "      <td>17</td>\n",
       "      <td>15</td>\n",
       "      <td>5.16</td>\n",
       "      <td>20.6</td>\n",
       "    </tr>\n",
       "  </tbody>\n",
       "</table>\n",
       "</div>"
      ],
      "text/plain": [
       "              Fertility  Agriculture  Examination  Education  Catholic  \\\n",
       "Courtelary         80.2         17.0           15         12      9.96   \n",
       "Delemont           83.1         45.1            6          9     84.84   \n",
       "Franches-Mnt       92.5         39.7            5          5     93.40   \n",
       "Moutier            85.8         36.5           12          7     33.77   \n",
       "Neuveville         76.9         43.5           17         15      5.16   \n",
       "\n",
       "              Infant.Mortality  \n",
       "Courtelary                22.2  \n",
       "Delemont                  22.2  \n",
       "Franches-Mnt              20.2  \n",
       "Moutier                   20.3  \n",
       "Neuveville                20.6  "
      ]
     },
     "execution_count": 29,
     "metadata": {},
     "output_type": "execute_result"
    }
   ],
   "source": [
    "swiss=data('swiss')\n",
    "swiss.head()"
   ]
  },
  {
   "cell_type": "code",
   "execution_count": 30,
   "id": "78d25d59",
   "metadata": {},
   "outputs": [
    {
     "name": "stdout",
     "output_type": "stream",
     "text": [
      "<class 'pandas.core.frame.DataFrame'>\n",
      "Index: 47 entries, Courtelary to Rive Gauche\n",
      "Data columns (total 6 columns):\n",
      " #   Column            Non-Null Count  Dtype  \n",
      "---  ------            --------------  -----  \n",
      " 0   Fertility         47 non-null     float64\n",
      " 1   Agriculture       47 non-null     float64\n",
      " 2   Examination       47 non-null     int64  \n",
      " 3   Education         47 non-null     int64  \n",
      " 4   Catholic          47 non-null     float64\n",
      " 5   Infant.Mortality  47 non-null     float64\n",
      "dtypes: float64(4), int64(2)\n",
      "memory usage: 2.6+ KB\n"
     ]
    }
   ],
   "source": [
    "swiss.info()"
   ]
  },
  {
   "cell_type": "code",
   "execution_count": 31,
   "id": "834a1810",
   "metadata": {},
   "outputs": [],
   "source": [
    "x_features=swiss[['Agriculture','Examination','Education','Catholic','Infant.Mortality']]\n",
    "y_target=swiss.Fertility"
   ]
  },
  {
   "cell_type": "code",
   "execution_count": 32,
   "id": "79f7ac59",
   "metadata": {},
   "outputs": [
    {
     "data": {
      "text/plain": [
       "['Examination', 'Education', 'Catholic']"
      ]
     },
     "execution_count": 32,
     "metadata": {},
     "output_type": "execute_result"
    }
   ],
   "source": [
    "select_kbest(x_features,y_target,3)"
   ]
  },
  {
   "cell_type": "code",
   "execution_count": 34,
   "id": "041046b4",
   "metadata": {},
   "outputs": [
    {
     "data": {
      "text/plain": [
       "['Examination', 'Education', 'Infant.Mortality']"
      ]
     },
     "execution_count": 34,
     "metadata": {},
     "output_type": "execute_result"
    }
   ],
   "source": [
    "rfe(x_features,y_target,3)"
   ]
  },
  {
   "cell_type": "markdown",
   "id": "d6383c8d",
   "metadata": {},
   "source": [
    "## Sequential Feature Selector"
   ]
  },
  {
   "cell_type": "code",
   "execution_count": 37,
   "id": "4884a92d",
   "metadata": {},
   "outputs": [],
   "source": [
    "def sequential_feature_selector(X, y, k):\n",
    "    \"\"\"\n",
    "    Select the top k features based on the Sequential Feature Selector class.\n",
    "    Returns:\n",
    "        List of str: The names of the top k selected features.\n",
    "    \"\"\"\n",
    "    # Create the SequentialFeatureSelector object and fit it to the data\n",
    "    estimator = LinearRegression()\n",
    "    selector = SequentialFeatureSelector(estimator, n_features_to_select=k, direction='forward', scoring='neg_mean_squared_error', cv=5)\n",
    "    selector.fit(X, y)\n",
    "    \n",
    "    # Get the mask of the top k selected features\n",
    "    feature_mask = selector.get_support()\n",
    "    \n",
    "    # Get the names of the top k selected features\n",
    "    feature_names = list(X.columns[feature_mask])\n",
    "    \n",
    "    return feature_names\n",
    "\n"
   ]
  },
  {
   "cell_type": "code",
   "execution_count": 38,
   "id": "4df6cdc3",
   "metadata": {},
   "outputs": [
    {
     "data": {
      "text/plain": [
       "['total_bill', 'size']"
      ]
     },
     "execution_count": 38,
     "metadata": {},
     "output_type": "execute_result"
    }
   ],
   "source": [
    "# Tips dataset\n",
    "sequential_feature_selector(x_train,y_train,2)"
   ]
  },
  {
   "cell_type": "code",
   "execution_count": 39,
   "id": "7900635c",
   "metadata": {},
   "outputs": [
    {
     "data": {
      "text/plain": [
       "['Agriculture', 'Examination', 'Infant.Mortality']"
      ]
     },
     "execution_count": 39,
     "metadata": {},
     "output_type": "execute_result"
    }
   ],
   "source": [
    "# swiss dataset\n",
    "sequential_feature_selector(x_features,y_target,3)"
   ]
  }
 ],
 "metadata": {
  "kernelspec": {
   "display_name": "Python 3 (ipykernel)",
   "language": "python",
   "name": "python3"
  },
  "language_info": {
   "codemirror_mode": {
    "name": "ipython",
    "version": 3
   },
   "file_extension": ".py",
   "mimetype": "text/x-python",
   "name": "python",
   "nbconvert_exporter": "python",
   "pygments_lexer": "ipython3",
   "version": "3.9.13"
  }
 },
 "nbformat": 4,
 "nbformat_minor": 5
}
