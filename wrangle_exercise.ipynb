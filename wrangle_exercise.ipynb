{
 "cells": [
  {
   "cell_type": "markdown",
   "id": "acd0dabd",
   "metadata": {},
   "source": [
    "## In these exercises, you will complete the first step toward the above goal: acquire and prepare the necessary Zillow data from the zillow database in the Codeup database server.\n",
    "\n",
    "1. Acquire bedroomcnt, bathroomcnt, calculatedfinishedsquarefeet, taxvaluedollarcnt, yearbuilt, taxamount, and fips from the zillow database for all 'Single Family Residential' properties.\n",
    "2. Using your acquired Zillow data, walk through the summarization and cleaning steps in your wrangle.ipynb file like we did above. You may handle the missing values however you feel is appropriate and meaningful; remember to document your process and decisions using markdown and code commenting where helpful.\n",
    "3. Store all of the necessary functions to automate your process from acquiring the data to returning a cleaned dataframe with no missing values in your wrangle.py file. Name your final function wrangle_zillow."
   ]
  },
  {
   "cell_type": "markdown",
   "id": "f9259791",
   "metadata": {},
   "source": [
    "# Acquire"
   ]
  },
  {
   "cell_type": "code",
   "execution_count": 1,
   "id": "113368c7",
   "metadata": {},
   "outputs": [],
   "source": [
    "import pandas as pd \n",
    "import env\n",
    "from sklearn.model_selection import train_test_split\n",
    "def get_db_url(database):\n",
    "    return f'mysql+pymysql://{env.username}:{env.password}@{env.host}/{database}'"
   ]
  },
  {
   "cell_type": "code",
   "execution_count": 2,
   "id": "48435d2c",
   "metadata": {},
   "outputs": [],
   "source": [
    "url=get_db_url('zillow')\n",
    "    \n",
    "SQL_query= \"\"\"select id, parcelid,bathroomcnt, bedroomcnt,calculatedfinishedsquarefeet\n",
    "        ,taxvaluedollarcnt,yearbuilt,taxamount, fips\n",
    "         from properties_2017\n",
    "         where propertylandusetypeid=261\"\"\"\n",
    "    \n",
    "filename=('zillow.csv')\n",
    "\n",
    "directory='/Users/chellyannmoreno/codeup-data-science/regression-exercises/'"
   ]
  },
  {
   "cell_type": "code",
   "execution_count": null,
   "id": "10d606a5",
   "metadata": {},
   "outputs": [],
   "source": []
  },
  {
   "cell_type": "code",
   "execution_count": 4,
   "id": "bf51506a",
   "metadata": {},
   "outputs": [],
   "source": [
    "def get_data():\n",
    "    if os.path.exists(directory+filename):\n",
    "        df=pd.read_csv(filename)\n",
    "        return df\n",
    "    else:\n",
    "        df=pd.read_sql(SQL_query,url)\n",
    "        df.to_csv(filename,index=False)\n",
    "        return df"
   ]
  },
  {
   "cell_type": "code",
   "execution_count": 12,
   "id": "ef446410",
   "metadata": {},
   "outputs": [],
   "source": [
    "df=get_data()"
   ]
  },
  {
   "cell_type": "code",
   "execution_count": 13,
   "id": "2bbd94e7",
   "metadata": {
    "scrolled": true
   },
   "outputs": [
    {
     "data": {
      "text/html": [
       "<div>\n",
       "<style scoped>\n",
       "    .dataframe tbody tr th:only-of-type {\n",
       "        vertical-align: middle;\n",
       "    }\n",
       "\n",
       "    .dataframe tbody tr th {\n",
       "        vertical-align: top;\n",
       "    }\n",
       "\n",
       "    .dataframe thead th {\n",
       "        text-align: right;\n",
       "    }\n",
       "</style>\n",
       "<table border=\"1\" class=\"dataframe\">\n",
       "  <thead>\n",
       "    <tr style=\"text-align: right;\">\n",
       "      <th></th>\n",
       "      <th>id</th>\n",
       "      <th>parcelid</th>\n",
       "      <th>bathroomcnt</th>\n",
       "      <th>bedroomcnt</th>\n",
       "      <th>calculatedfinishedsquarefeet</th>\n",
       "      <th>taxvaluedollarcnt</th>\n",
       "      <th>yearbuilt</th>\n",
       "      <th>taxamount</th>\n",
       "      <th>fips</th>\n",
       "    </tr>\n",
       "  </thead>\n",
       "  <tbody>\n",
       "    <tr>\n",
       "      <th>0</th>\n",
       "      <td>1</td>\n",
       "      <td>10759547</td>\n",
       "      <td>0.0</td>\n",
       "      <td>0.0</td>\n",
       "      <td>NaN</td>\n",
       "      <td>27516.0</td>\n",
       "      <td>NaN</td>\n",
       "      <td>NaN</td>\n",
       "      <td>6037.0</td>\n",
       "    </tr>\n",
       "    <tr>\n",
       "      <th>1</th>\n",
       "      <td>15</td>\n",
       "      <td>11193347</td>\n",
       "      <td>0.0</td>\n",
       "      <td>0.0</td>\n",
       "      <td>NaN</td>\n",
       "      <td>10.0</td>\n",
       "      <td>NaN</td>\n",
       "      <td>NaN</td>\n",
       "      <td>6037.0</td>\n",
       "    </tr>\n",
       "    <tr>\n",
       "      <th>2</th>\n",
       "      <td>16</td>\n",
       "      <td>11215747</td>\n",
       "      <td>0.0</td>\n",
       "      <td>0.0</td>\n",
       "      <td>NaN</td>\n",
       "      <td>10.0</td>\n",
       "      <td>NaN</td>\n",
       "      <td>NaN</td>\n",
       "      <td>6037.0</td>\n",
       "    </tr>\n",
       "    <tr>\n",
       "      <th>3</th>\n",
       "      <td>17</td>\n",
       "      <td>11229347</td>\n",
       "      <td>0.0</td>\n",
       "      <td>0.0</td>\n",
       "      <td>NaN</td>\n",
       "      <td>2108.0</td>\n",
       "      <td>NaN</td>\n",
       "      <td>174.21</td>\n",
       "      <td>6037.0</td>\n",
       "    </tr>\n",
       "    <tr>\n",
       "      <th>4</th>\n",
       "      <td>20</td>\n",
       "      <td>11324547</td>\n",
       "      <td>2.0</td>\n",
       "      <td>4.0</td>\n",
       "      <td>3633.0</td>\n",
       "      <td>296425.0</td>\n",
       "      <td>2005.0</td>\n",
       "      <td>6941.39</td>\n",
       "      <td>6037.0</td>\n",
       "    </tr>\n",
       "  </tbody>\n",
       "</table>\n",
       "</div>"
      ],
      "text/plain": [
       "   id  parcelid  bathroomcnt  bedroomcnt  calculatedfinishedsquarefeet  \\\n",
       "0   1  10759547          0.0         0.0                           NaN   \n",
       "1  15  11193347          0.0         0.0                           NaN   \n",
       "2  16  11215747          0.0         0.0                           NaN   \n",
       "3  17  11229347          0.0         0.0                           NaN   \n",
       "4  20  11324547          2.0         4.0                        3633.0   \n",
       "\n",
       "   taxvaluedollarcnt  yearbuilt  taxamount    fips  \n",
       "0            27516.0        NaN        NaN  6037.0  \n",
       "1               10.0        NaN        NaN  6037.0  \n",
       "2               10.0        NaN        NaN  6037.0  \n",
       "3             2108.0        NaN     174.21  6037.0  \n",
       "4           296425.0     2005.0    6941.39  6037.0  "
      ]
     },
     "execution_count": 13,
     "metadata": {},
     "output_type": "execute_result"
    }
   ],
   "source": [
    "df.head()"
   ]
  },
  {
   "cell_type": "code",
   "execution_count": 14,
   "id": "75a5f3c6",
   "metadata": {},
   "outputs": [
    {
     "data": {
      "text/plain": [
       "(2152863, 9)"
      ]
     },
     "execution_count": 14,
     "metadata": {},
     "output_type": "execute_result"
    }
   ],
   "source": [
    "df.shape"
   ]
  },
  {
   "cell_type": "markdown",
   "id": "36fa6ca6",
   "metadata": {},
   "source": [
    "# Prepare"
   ]
  },
  {
   "cell_type": "code",
   "execution_count": 51,
   "id": "fd89257d",
   "metadata": {},
   "outputs": [
    {
     "data": {
      "text/plain": [
       "(2028095, 9)"
      ]
     },
     "execution_count": 51,
     "metadata": {},
     "output_type": "execute_result"
    }
   ],
   "source": [
    "df.shape"
   ]
  },
  {
   "cell_type": "code",
   "execution_count": 17,
   "id": "f0e51a72",
   "metadata": {
    "scrolled": true
   },
   "outputs": [
    {
     "data": {
      "text/plain": [
       "(2561, 9)"
      ]
     },
     "execution_count": 17,
     "metadata": {},
     "output_type": "execute_result"
    }
   ],
   "source": [
    "oldh=df[df.yearbuilt<1900]\n",
    "oldh.shape"
   ]
  },
  {
   "cell_type": "code",
   "execution_count": 19,
   "id": "2dc0d178",
   "metadata": {},
   "outputs": [
    {
     "data": {
      "text/plain": [
       "1895.0    569\n",
       "1890.0    539\n",
       "1898.0    256\n",
       "1885.0    172\n",
       "1899.0    139\n",
       "1897.0    135\n",
       "1896.0    128\n",
       "1894.0    103\n",
       "1893.0     91\n",
       "1888.0     88\n",
       "1887.0     78\n",
       "1892.0     65\n",
       "1880.0     39\n",
       "1886.0     33\n",
       "1891.0     31\n",
       "1889.0     30\n",
       "1884.0     14\n",
       "1875.0     10\n",
       "1883.0      8\n",
       "1882.0      6\n",
       "1881.0      4\n",
       "1870.0      3\n",
       "1801.0      3\n",
       "1812.0      2\n",
       "1865.0      2\n",
       "1876.0      2\n",
       "1878.0      2\n",
       "1862.0      1\n",
       "1807.0      1\n",
       "1877.0      1\n",
       "1879.0      1\n",
       "1823.0      1\n",
       "1855.0      1\n",
       "1833.0      1\n",
       "1840.0      1\n",
       "1874.0      1\n",
       "Name: yearbuilt, dtype: int64"
      ]
     },
     "execution_count": 19,
     "metadata": {},
     "output_type": "execute_result"
    }
   ],
   "source": [
    "oldh.yearbuilt.value_counts()"
   ]
  },
  {
   "cell_type": "code",
   "execution_count": 71,
   "id": "e4ca633f",
   "metadata": {},
   "outputs": [
    {
     "data": {
      "text/plain": [
       "0.0011991548719364725"
      ]
     },
     "execution_count": 71,
     "metadata": {},
     "output_type": "execute_result"
    }
   ],
   "source": [
    "len(oldh)/len(df)"
   ]
  },
  {
   "cell_type": "code",
   "execution_count": 28,
   "id": "e05f00b7",
   "metadata": {
    "scrolled": true
   },
   "outputs": [
    {
     "data": {
      "text/html": [
       "<div>\n",
       "<style scoped>\n",
       "    .dataframe tbody tr th:only-of-type {\n",
       "        vertical-align: middle;\n",
       "    }\n",
       "\n",
       "    .dataframe tbody tr th {\n",
       "        vertical-align: top;\n",
       "    }\n",
       "\n",
       "    .dataframe thead th {\n",
       "        text-align: right;\n",
       "    }\n",
       "</style>\n",
       "<table border=\"1\" class=\"dataframe\">\n",
       "  <thead>\n",
       "    <tr style=\"text-align: right;\">\n",
       "      <th></th>\n",
       "      <th>count</th>\n",
       "      <th>mean</th>\n",
       "      <th>std</th>\n",
       "      <th>min</th>\n",
       "      <th>25%</th>\n",
       "      <th>50%</th>\n",
       "      <th>75%</th>\n",
       "      <th>max</th>\n",
       "    </tr>\n",
       "  </thead>\n",
       "  <tbody>\n",
       "    <tr>\n",
       "      <th>id</th>\n",
       "      <td>2033172.0</td>\n",
       "      <td>1.490903e+06</td>\n",
       "      <td>8.608481e+05</td>\n",
       "      <td>20.00</td>\n",
       "      <td>7.455758e+05</td>\n",
       "      <td>1490529.00</td>\n",
       "      <td>2.235772e+06</td>\n",
       "      <td>2.982282e+06</td>\n",
       "    </tr>\n",
       "    <tr>\n",
       "      <th>parcelid</th>\n",
       "      <td>2033172.0</td>\n",
       "      <td>1.304209e+07</td>\n",
       "      <td>4.344449e+06</td>\n",
       "      <td>10711725.00</td>\n",
       "      <td>1.167093e+07</td>\n",
       "      <td>12610664.50</td>\n",
       "      <td>1.404881e+07</td>\n",
       "      <td>1.681836e+08</td>\n",
       "    </tr>\n",
       "    <tr>\n",
       "      <th>bathrooms</th>\n",
       "      <td>2033172.0</td>\n",
       "      <td>2.141026e+00</td>\n",
       "      <td>8.351854e-01</td>\n",
       "      <td>0.00</td>\n",
       "      <td>2.000000e+00</td>\n",
       "      <td>2.00</td>\n",
       "      <td>3.000000e+00</td>\n",
       "      <td>2.000000e+01</td>\n",
       "    </tr>\n",
       "    <tr>\n",
       "      <th>bedrooms</th>\n",
       "      <td>2033172.0</td>\n",
       "      <td>3.257700e+00</td>\n",
       "      <td>8.967887e-01</td>\n",
       "      <td>0.00</td>\n",
       "      <td>3.000000e+00</td>\n",
       "      <td>3.00</td>\n",
       "      <td>4.000000e+00</td>\n",
       "      <td>1.600000e+01</td>\n",
       "    </tr>\n",
       "    <tr>\n",
       "      <th>area</th>\n",
       "      <td>2033172.0</td>\n",
       "      <td>1.751421e+03</td>\n",
       "      <td>7.258099e+02</td>\n",
       "      <td>1.00</td>\n",
       "      <td>1.242000e+03</td>\n",
       "      <td>1587.00</td>\n",
       "      <td>2.106000e+03</td>\n",
       "      <td>2.422000e+04</td>\n",
       "    </tr>\n",
       "    <tr>\n",
       "      <th>taxvalue</th>\n",
       "      <td>2033172.0</td>\n",
       "      <td>3.632401e+05</td>\n",
       "      <td>2.432811e+05</td>\n",
       "      <td>22.00</td>\n",
       "      <td>1.816560e+05</td>\n",
       "      <td>312745.00</td>\n",
       "      <td>4.917210e+05</td>\n",
       "      <td>1.202999e+06</td>\n",
       "    </tr>\n",
       "    <tr>\n",
       "      <th>yearbuilt</th>\n",
       "      <td>2033172.0</td>\n",
       "      <td>1.960267e+03</td>\n",
       "      <td>2.154476e+01</td>\n",
       "      <td>1801.00</td>\n",
       "      <td>1.949000e+03</td>\n",
       "      <td>1958.00</td>\n",
       "      <td>1.974000e+03</td>\n",
       "      <td>2.016000e+03</td>\n",
       "    </tr>\n",
       "    <tr>\n",
       "      <th>taxamount</th>\n",
       "      <td>2033172.0</td>\n",
       "      <td>4.506123e+03</td>\n",
       "      <td>2.842968e+03</td>\n",
       "      <td>6.34</td>\n",
       "      <td>2.456707e+03</td>\n",
       "      <td>3937.89</td>\n",
       "      <td>5.938602e+03</td>\n",
       "      <td>1.003793e+05</td>\n",
       "    </tr>\n",
       "  </tbody>\n",
       "</table>\n",
       "</div>"
      ],
      "text/plain": [
       "               count          mean           std          min           25%  \\\n",
       "id         2033172.0  1.490903e+06  8.608481e+05        20.00  7.455758e+05   \n",
       "parcelid   2033172.0  1.304209e+07  4.344449e+06  10711725.00  1.167093e+07   \n",
       "bathrooms  2033172.0  2.141026e+00  8.351854e-01         0.00  2.000000e+00   \n",
       "bedrooms   2033172.0  3.257700e+00  8.967887e-01         0.00  3.000000e+00   \n",
       "area       2033172.0  1.751421e+03  7.258099e+02         1.00  1.242000e+03   \n",
       "taxvalue   2033172.0  3.632401e+05  2.432811e+05        22.00  1.816560e+05   \n",
       "yearbuilt  2033172.0  1.960267e+03  2.154476e+01      1801.00  1.949000e+03   \n",
       "taxamount  2033172.0  4.506123e+03  2.842968e+03         6.34  2.456707e+03   \n",
       "\n",
       "                   50%           75%           max  \n",
       "id          1490529.00  2.235772e+06  2.982282e+06  \n",
       "parcelid   12610664.50  1.404881e+07  1.681836e+08  \n",
       "bathrooms         2.00  3.000000e+00  2.000000e+01  \n",
       "bedrooms          3.00  4.000000e+00  1.600000e+01  \n",
       "area           1587.00  2.106000e+03  2.422000e+04  \n",
       "taxvalue     312745.00  4.917210e+05  1.202999e+06  \n",
       "yearbuilt      1958.00  1.974000e+03  2.016000e+03  \n",
       "taxamount      3937.89  5.938602e+03  1.003793e+05  "
      ]
     },
     "execution_count": 28,
     "metadata": {},
     "output_type": "execute_result"
    }
   ],
   "source": [
    "df.describe().T"
   ]
  },
  {
   "cell_type": "code",
   "execution_count": 55,
   "id": "f6d8d4e9",
   "metadata": {
    "scrolled": true
   },
   "outputs": [
    {
     "name": "stdout",
     "output_type": "stream",
     "text": [
      "<class 'pandas.core.frame.DataFrame'>\n",
      "Int64Index: 2028095 entries, 4 to 2152862\n",
      "Data columns (total 9 columns):\n",
      " #   Column     Dtype  \n",
      "---  ------     -----  \n",
      " 0   id         int64  \n",
      " 1   parcelid   int64  \n",
      " 2   bathrooms  float64\n",
      " 3   bedrooms   int64  \n",
      " 4   area       int64  \n",
      " 5   taxvalue   int64  \n",
      " 6   yearbuilt  int64  \n",
      " 7   taxamount  float64\n",
      " 8   county     object \n",
      "dtypes: float64(2), int64(6), object(1)\n",
      "memory usage: 154.7+ MB\n"
     ]
    }
   ],
   "source": [
    "df.info()"
   ]
  },
  {
   "cell_type": "code",
   "execution_count": 24,
   "id": "9b873b62",
   "metadata": {},
   "outputs": [
    {
     "data": {
      "text/plain": [
       "2.00     931071\n",
       "1.00     408968\n",
       "3.00     400667\n",
       "2.50     140045\n",
       "4.00      62921\n",
       "1.50      31005\n",
       "3.50      22502\n",
       "5.00      14210\n",
       "4.50      10614\n",
       "6.00       2830\n",
       "5.50       1229\n",
       "7.00        616\n",
       "6.50        150\n",
       "8.00        134\n",
       "7.50         63\n",
       "9.00         28\n",
       "10.00        15\n",
       "0.50         12\n",
       "11.00         5\n",
       "1.75          3\n",
       "9.50          3\n",
       "14.00         2\n",
       "12.00         1\n",
       "8.50          1\n",
       "13.00         1\n",
       "Name: bathrooms, dtype: int64"
      ]
     },
     "execution_count": 24,
     "metadata": {},
     "output_type": "execute_result"
    }
   ],
   "source": [
    "df.bathrooms.value_counts()"
   ]
  },
  {
   "cell_type": "code",
   "execution_count": 20,
   "id": "53fd6086",
   "metadata": {},
   "outputs": [],
   "source": [
    "df = df.rename(columns={\n",
    "        'bedroomcnt': 'bedrooms',\n",
    "        'bathroomcnt': 'bathrooms',\n",
    "        'calculatedfinishedsquarefeet': 'area',\n",
    "        'taxvaluedollarcnt': 'taxvalue',\n",
    "        'fips': 'county'\n",
    "    })\n",
    "\n",
    "    # Filter out rows with large area and filter out places with zero bathrooms and baths, and with more than 15.\n",
    "df = df[df.area < 25_000]\n",
    "df = df[df.yearbuilt > 1890]\n",
    "df = df[(df.bathrooms > 0) & (df.bathrooms < 15) & (df.bedrooms > 0) & (df.bedrooms < 15)]\n",
    "\n",
    "\n",
    "    # Drop rows with missing values\n",
    "df = df.dropna()\n",
    "\n",
    "    # Filter out rows with high tax value\n",
    "taxvalue_threshold = df.taxvalue.quantile(.95)\n",
    "df = df[df.taxvalue < taxvalue_threshold].copy()\n",
    "\n",
    "    # Convert data types\n",
    "df[['bedrooms', 'area', 'taxvalue', 'yearbuilt']] = df[['bedrooms', 'area', 'taxvalue', 'yearbuilt']].astype(int)\n",
    "\n",
    "    # Map county codes to names\n",
    "county_map = {6037: 'LA', 6059: 'Orange', 6111: 'Ventura'}\n",
    "df.county = df.county.map(county_map)"
   ]
  },
  {
   "cell_type": "code",
   "execution_count": 21,
   "id": "e9edc97c",
   "metadata": {
    "scrolled": false
   },
   "outputs": [
    {
     "data": {
      "text/html": [
       "<div>\n",
       "<style scoped>\n",
       "    .dataframe tbody tr th:only-of-type {\n",
       "        vertical-align: middle;\n",
       "    }\n",
       "\n",
       "    .dataframe tbody tr th {\n",
       "        vertical-align: top;\n",
       "    }\n",
       "\n",
       "    .dataframe thead th {\n",
       "        text-align: right;\n",
       "    }\n",
       "</style>\n",
       "<table border=\"1\" class=\"dataframe\">\n",
       "  <thead>\n",
       "    <tr style=\"text-align: right;\">\n",
       "      <th></th>\n",
       "      <th>id</th>\n",
       "      <th>parcelid</th>\n",
       "      <th>bathrooms</th>\n",
       "      <th>bedrooms</th>\n",
       "      <th>area</th>\n",
       "      <th>taxvalue</th>\n",
       "      <th>yearbuilt</th>\n",
       "      <th>taxamount</th>\n",
       "      <th>county</th>\n",
       "    </tr>\n",
       "  </thead>\n",
       "  <tbody>\n",
       "    <tr>\n",
       "      <th>4</th>\n",
       "      <td>20</td>\n",
       "      <td>11324547</td>\n",
       "      <td>2.0</td>\n",
       "      <td>4</td>\n",
       "      <td>3633</td>\n",
       "      <td>296425</td>\n",
       "      <td>2005</td>\n",
       "      <td>6941.39</td>\n",
       "      <td>LA</td>\n",
       "    </tr>\n",
       "    <tr>\n",
       "      <th>6</th>\n",
       "      <td>31</td>\n",
       "      <td>11544747</td>\n",
       "      <td>4.0</td>\n",
       "      <td>3</td>\n",
       "      <td>1620</td>\n",
       "      <td>847770</td>\n",
       "      <td>2011</td>\n",
       "      <td>10244.94</td>\n",
       "      <td>LA</td>\n",
       "    </tr>\n",
       "    <tr>\n",
       "      <th>7</th>\n",
       "      <td>33</td>\n",
       "      <td>11585547</td>\n",
       "      <td>2.0</td>\n",
       "      <td>3</td>\n",
       "      <td>2077</td>\n",
       "      <td>646760</td>\n",
       "      <td>1926</td>\n",
       "      <td>7924.68</td>\n",
       "      <td>LA</td>\n",
       "    </tr>\n",
       "    <tr>\n",
       "      <th>18</th>\n",
       "      <td>110</td>\n",
       "      <td>12716947</td>\n",
       "      <td>1.0</td>\n",
       "      <td>3</td>\n",
       "      <td>1244</td>\n",
       "      <td>169471</td>\n",
       "      <td>1950</td>\n",
       "      <td>2532.88</td>\n",
       "      <td>LA</td>\n",
       "    </tr>\n",
       "    <tr>\n",
       "      <th>19</th>\n",
       "      <td>111</td>\n",
       "      <td>12757147</td>\n",
       "      <td>2.0</td>\n",
       "      <td>3</td>\n",
       "      <td>1300</td>\n",
       "      <td>233266</td>\n",
       "      <td>1950</td>\n",
       "      <td>3110.99</td>\n",
       "      <td>LA</td>\n",
       "    </tr>\n",
       "  </tbody>\n",
       "</table>\n",
       "</div>"
      ],
      "text/plain": [
       "     id  parcelid  bathrooms  bedrooms  area  taxvalue  yearbuilt  taxamount  \\\n",
       "4    20  11324547        2.0         4  3633    296425       2005    6941.39   \n",
       "6    31  11544747        4.0         3  1620    847770       2011   10244.94   \n",
       "7    33  11585547        2.0         3  2077    646760       1926    7924.68   \n",
       "18  110  12716947        1.0         3  1244    169471       1950    2532.88   \n",
       "19  111  12757147        2.0         3  1300    233266       1950    3110.99   \n",
       "\n",
       "   county  \n",
       "4      LA  \n",
       "6      LA  \n",
       "7      LA  \n",
       "18     LA  \n",
       "19     LA  "
      ]
     },
     "execution_count": 21,
     "metadata": {},
     "output_type": "execute_result"
    }
   ],
   "source": [
    "df.head()"
   ]
  },
  {
   "cell_type": "code",
   "execution_count": 22,
   "id": "0b29d643",
   "metadata": {
    "scrolled": false
   },
   "outputs": [
    {
     "data": {
      "text/plain": [
       "(2027096, 9)"
      ]
     },
     "execution_count": 22,
     "metadata": {},
     "output_type": "execute_result"
    }
   ],
   "source": [
    "df.shape"
   ]
  },
  {
   "cell_type": "code",
   "execution_count": 23,
   "id": "6aa4f76c",
   "metadata": {
    "scrolled": true
   },
   "outputs": [
    {
     "data": {
      "text/plain": [
       "0.9415815126183134"
      ]
     },
     "execution_count": 23,
     "metadata": {},
     "output_type": "execute_result"
    }
   ],
   "source": [
    "2027096/2152863"
   ]
  },
  {
   "cell_type": "markdown",
   "id": "abb1f67d",
   "metadata": {},
   "source": [
    "# Recap:\n",
    "1. created my acquire data function\n",
    "2. drop all nulls\n",
    "3. remove houses with areas of more than 25_000\n",
    "4. remove houses with no beds and/or baths\n",
    "5. remove houses that are older than 1880\n",
    "6. rename columns\n",
    "7. county column turned into object\n",
    "8. verify if they were any halfbaths\n",
    "9. after all changes were made I had kept around 94% of my data."
   ]
  },
  {
   "cell_type": "markdown",
   "id": "20c04e7b",
   "metadata": {},
   "source": [
    "# Split data"
   ]
  },
  {
   "cell_type": "code",
   "execution_count": null,
   "id": "3b83c000",
   "metadata": {},
   "outputs": [],
   "source": [
    "# Split into train_validate and test sets\n",
    "train_validate, test = train_test_split(df, test_size=.2, random_state=123)\n",
    "\n",
    "# Split into train and validate sets\n",
    "train, validate = train_test_split(train_validate, test_size=.25, random_state=123)\n",
    "\n"
   ]
  }
 ],
 "metadata": {
  "kernelspec": {
   "display_name": "Python 3 (ipykernel)",
   "language": "python",
   "name": "python3"
  },
  "language_info": {
   "codemirror_mode": {
    "name": "ipython",
    "version": 3
   },
   "file_extension": ".py",
   "mimetype": "text/x-python",
   "name": "python",
   "nbconvert_exporter": "python",
   "pygments_lexer": "ipython3",
   "version": "3.9.13"
  }
 },
 "nbformat": 4,
 "nbformat_minor": 5
}
